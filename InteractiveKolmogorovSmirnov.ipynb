{
  "nbformat": 4,
  "nbformat_minor": 0,
  "metadata": {
    "colab": {
      "provenance": []
    },
    "kernelspec": {
      "name": "python3",
      "display_name": "Python 3"
    },
    "language_info": {
      "name": "python"
    },
    "widgets": {
      "application/vnd.jupyter.widget-state+json": {
        "99289d8f420b46e99982b4ca79d21860": {
          "model_module": "@jupyter-widgets/controls",
          "model_name": "VBoxModel",
          "model_module_version": "1.5.0",
          "state": {
            "_dom_classes": [
              "widget-interact"
            ],
            "_model_module": "@jupyter-widgets/controls",
            "_model_module_version": "1.5.0",
            "_model_name": "VBoxModel",
            "_view_count": null,
            "_view_module": "@jupyter-widgets/controls",
            "_view_module_version": "1.5.0",
            "_view_name": "VBoxView",
            "box_style": "",
            "children": [
              "IPY_MODEL_8ea05011205f45b9ae68236149acf1dd",
              "IPY_MODEL_73c40bfed4994be9971cc280869917d5",
              "IPY_MODEL_ec262b95f5cc44debd0a7666ad6a753c"
            ],
            "layout": "IPY_MODEL_baefc4ea4b734b09b192c4bee1dab82c"
          }
        },
        "8ea05011205f45b9ae68236149acf1dd": {
          "model_module": "@jupyter-widgets/controls",
          "model_name": "DropdownModel",
          "model_module_version": "1.5.0",
          "state": {
            "_dom_classes": [],
            "_model_module": "@jupyter-widgets/controls",
            "_model_module_version": "1.5.0",
            "_model_name": "DropdownModel",
            "_options_labels": [
              "2013",
              "2015",
              "2017",
              "2018",
              "2019",
              "2020"
            ],
            "_view_count": null,
            "_view_module": "@jupyter-widgets/controls",
            "_view_module_version": "1.5.0",
            "_view_name": "DropdownView",
            "description": "Year:",
            "description_tooltip": null,
            "disabled": false,
            "index": 0,
            "layout": "IPY_MODEL_7391384c2569470ea76508184c35df0a",
            "style": "IPY_MODEL_47e875d9b15f47838c536b6cbaec24c3"
          }
        },
        "73c40bfed4994be9971cc280869917d5": {
          "model_module": "@jupyter-widgets/controls",
          "model_name": "FloatLogSliderModel",
          "model_module_version": "1.5.0",
          "state": {
            "_dom_classes": [],
            "_model_module": "@jupyter-widgets/controls",
            "_model_module_version": "1.5.0",
            "_model_name": "FloatLogSliderModel",
            "_view_count": null,
            "_view_module": "@jupyter-widgets/controls",
            "_view_module_version": "1.5.0",
            "_view_name": "FloatLogSliderView",
            "base": 10,
            "continuous_update": true,
            "description": "v_min:",
            "description_tooltip": null,
            "disabled": false,
            "layout": "IPY_MODEL_c02d78b0b95b4479b015fecbae9815e9",
            "max": -1,
            "min": -4,
            "orientation": "horizontal",
            "readout": true,
            "readout_format": ".3g",
            "step": 0.1,
            "style": "IPY_MODEL_9e69410b7186461d8c7a90e4c5b11ab6",
            "value": 0.001
          }
        },
        "ec262b95f5cc44debd0a7666ad6a753c": {
          "model_module": "@jupyter-widgets/output",
          "model_name": "OutputModel",
          "model_module_version": "1.0.0",
          "state": {
            "_dom_classes": [],
            "_model_module": "@jupyter-widgets/output",
            "_model_module_version": "1.0.0",
            "_model_name": "OutputModel",
            "_view_count": null,
            "_view_module": "@jupyter-widgets/output",
            "_view_module_version": "1.0.0",
            "_view_name": "OutputView",
            "layout": "IPY_MODEL_03198e7396c94fe2ae9177f489fd187c",
            "msg_id": "",
            "outputs": [
              {
                "output_type": "stream",
                "name": "stdout",
                "text": [
                  "Debug - Selected Year: 2013, Selected vmin: 1.0023052380778996\n",
                  "Debug - Sample data from selected dataframe:\n",
                  "     Volume  Normalized Rank\n",
                  "0  0.896789         0.001524\n",
                  "1  0.772838         0.003049\n",
                  "2  0.645852         0.004573\n",
                  "3  0.336486         0.006098\n",
                  "4  0.313687         0.007622\n"
                ]
              },
              {
                "output_type": "error",
                "ename": "TypeError",
                "evalue": "ignored",
                "traceback": [
                  "\u001b[0;31m---------------------------------------------------------------------------\u001b[0m",
                  "\u001b[0;31mTypeError\u001b[0m                                 Traceback (most recent call last)",
                  "\u001b[0;32m/usr/local/lib/python3.10/dist-packages/ipywidgets/widgets/interaction.py\u001b[0m in \u001b[0;36mupdate\u001b[0;34m(self, *args)\u001b[0m\n\u001b[1;32m    255\u001b[0m                     \u001b[0mvalue\u001b[0m \u001b[0;34m=\u001b[0m \u001b[0mwidget\u001b[0m\u001b[0;34m.\u001b[0m\u001b[0mget_interact_value\u001b[0m\u001b[0;34m(\u001b[0m\u001b[0;34m)\u001b[0m\u001b[0;34m\u001b[0m\u001b[0;34m\u001b[0m\u001b[0m\n\u001b[1;32m    256\u001b[0m                     \u001b[0mself\u001b[0m\u001b[0;34m.\u001b[0m\u001b[0mkwargs\u001b[0m\u001b[0;34m[\u001b[0m\u001b[0mwidget\u001b[0m\u001b[0;34m.\u001b[0m\u001b[0m_kwarg\u001b[0m\u001b[0;34m]\u001b[0m \u001b[0;34m=\u001b[0m \u001b[0mvalue\u001b[0m\u001b[0;34m\u001b[0m\u001b[0;34m\u001b[0m\u001b[0m\n\u001b[0;32m--> 257\u001b[0;31m                 \u001b[0mself\u001b[0m\u001b[0;34m.\u001b[0m\u001b[0mresult\u001b[0m \u001b[0;34m=\u001b[0m \u001b[0mself\u001b[0m\u001b[0;34m.\u001b[0m\u001b[0mf\u001b[0m\u001b[0;34m(\u001b[0m\u001b[0;34m**\u001b[0m\u001b[0mself\u001b[0m\u001b[0;34m.\u001b[0m\u001b[0mkwargs\u001b[0m\u001b[0;34m)\u001b[0m\u001b[0;34m\u001b[0m\u001b[0;34m\u001b[0m\u001b[0m\n\u001b[0m\u001b[1;32m    258\u001b[0m                 \u001b[0mshow_inline_matplotlib_plots\u001b[0m\u001b[0;34m(\u001b[0m\u001b[0;34m)\u001b[0m\u001b[0;34m\u001b[0m\u001b[0;34m\u001b[0m\u001b[0m\n\u001b[1;32m    259\u001b[0m                 \u001b[0;32mif\u001b[0m \u001b[0mself\u001b[0m\u001b[0;34m.\u001b[0m\u001b[0mauto_display\u001b[0m \u001b[0;32mand\u001b[0m \u001b[0mself\u001b[0m\u001b[0;34m.\u001b[0m\u001b[0mresult\u001b[0m \u001b[0;32mis\u001b[0m \u001b[0;32mnot\u001b[0m \u001b[0;32mNone\u001b[0m\u001b[0;34m:\u001b[0m\u001b[0;34m\u001b[0m\u001b[0;34m\u001b[0m\u001b[0m\n",
                  "\u001b[0;32m<ipython-input-22-14298978f520>\u001b[0m in \u001b[0;36mdebug_update_plots\u001b[0;34m(year, log_vmin)\u001b[0m\n\u001b[1;32m      9\u001b[0m \u001b[0;34m\u001b[0m\u001b[0m\n\u001b[1;32m     10\u001b[0m     \u001b[0;31m# Run the MCF function and print its output\u001b[0m\u001b[0;34m\u001b[0m\u001b[0;34m\u001b[0m\u001b[0m\n\u001b[0;32m---> 11\u001b[0;31m     \u001b[0mvmin_best\u001b[0m\u001b[0;34m,\u001b[0m \u001b[0mD_star_best\u001b[0m\u001b[0;34m,\u001b[0m \u001b[0mp_value\u001b[0m\u001b[0;34m,\u001b[0m \u001b[0mb_hat_best\u001b[0m\u001b[0;34m,\u001b[0m \u001b[0mn_truncated_best\u001b[0m \u001b[0;34m=\u001b[0m \u001b[0mMCF\u001b[0m\u001b[0;34m(\u001b[0m\u001b[0myear\u001b[0m\u001b[0;34m)\u001b[0m\u001b[0;34m\u001b[0m\u001b[0;34m\u001b[0m\u001b[0m\n\u001b[0m\u001b[1;32m     12\u001b[0m     \u001b[0mprint\u001b[0m\u001b[0;34m(\u001b[0m\u001b[0;34mf\"Debug - Output from MCF: {vmin_best, D_star_best, p_value, b_hat_best, n_truncated_best}\"\u001b[0m\u001b[0;34m)\u001b[0m  \u001b[0;31m# Debug print\u001b[0m\u001b[0;34m\u001b[0m\u001b[0;34m\u001b[0m\u001b[0m\n\u001b[1;32m     13\u001b[0m \u001b[0;34m\u001b[0m\u001b[0m\n",
                  "\u001b[0;31mTypeError\u001b[0m: MCF() missing 1 required positional argument: 'vmin_limit'"
                ]
              }
            ]
          }
        },
        "baefc4ea4b734b09b192c4bee1dab82c": {
          "model_module": "@jupyter-widgets/base",
          "model_name": "LayoutModel",
          "model_module_version": "1.2.0",
          "state": {
            "_model_module": "@jupyter-widgets/base",
            "_model_module_version": "1.2.0",
            "_model_name": "LayoutModel",
            "_view_count": null,
            "_view_module": "@jupyter-widgets/base",
            "_view_module_version": "1.2.0",
            "_view_name": "LayoutView",
            "align_content": null,
            "align_items": null,
            "align_self": null,
            "border": null,
            "bottom": null,
            "display": null,
            "flex": null,
            "flex_flow": null,
            "grid_area": null,
            "grid_auto_columns": null,
            "grid_auto_flow": null,
            "grid_auto_rows": null,
            "grid_column": null,
            "grid_gap": null,
            "grid_row": null,
            "grid_template_areas": null,
            "grid_template_columns": null,
            "grid_template_rows": null,
            "height": null,
            "justify_content": null,
            "justify_items": null,
            "left": null,
            "margin": null,
            "max_height": null,
            "max_width": null,
            "min_height": null,
            "min_width": null,
            "object_fit": null,
            "object_position": null,
            "order": null,
            "overflow": null,
            "overflow_x": null,
            "overflow_y": null,
            "padding": null,
            "right": null,
            "top": null,
            "visibility": null,
            "width": null
          }
        },
        "7391384c2569470ea76508184c35df0a": {
          "model_module": "@jupyter-widgets/base",
          "model_name": "LayoutModel",
          "model_module_version": "1.2.0",
          "state": {
            "_model_module": "@jupyter-widgets/base",
            "_model_module_version": "1.2.0",
            "_model_name": "LayoutModel",
            "_view_count": null,
            "_view_module": "@jupyter-widgets/base",
            "_view_module_version": "1.2.0",
            "_view_name": "LayoutView",
            "align_content": null,
            "align_items": null,
            "align_self": null,
            "border": null,
            "bottom": null,
            "display": null,
            "flex": null,
            "flex_flow": null,
            "grid_area": null,
            "grid_auto_columns": null,
            "grid_auto_flow": null,
            "grid_auto_rows": null,
            "grid_column": null,
            "grid_gap": null,
            "grid_row": null,
            "grid_template_areas": null,
            "grid_template_columns": null,
            "grid_template_rows": null,
            "height": null,
            "justify_content": null,
            "justify_items": null,
            "left": null,
            "margin": null,
            "max_height": null,
            "max_width": null,
            "min_height": null,
            "min_width": null,
            "object_fit": null,
            "object_position": null,
            "order": null,
            "overflow": null,
            "overflow_x": null,
            "overflow_y": null,
            "padding": null,
            "right": null,
            "top": null,
            "visibility": null,
            "width": null
          }
        },
        "47e875d9b15f47838c536b6cbaec24c3": {
          "model_module": "@jupyter-widgets/controls",
          "model_name": "DescriptionStyleModel",
          "model_module_version": "1.5.0",
          "state": {
            "_model_module": "@jupyter-widgets/controls",
            "_model_module_version": "1.5.0",
            "_model_name": "DescriptionStyleModel",
            "_view_count": null,
            "_view_module": "@jupyter-widgets/base",
            "_view_module_version": "1.2.0",
            "_view_name": "StyleView",
            "description_width": ""
          }
        },
        "c02d78b0b95b4479b015fecbae9815e9": {
          "model_module": "@jupyter-widgets/base",
          "model_name": "LayoutModel",
          "model_module_version": "1.2.0",
          "state": {
            "_model_module": "@jupyter-widgets/base",
            "_model_module_version": "1.2.0",
            "_model_name": "LayoutModel",
            "_view_count": null,
            "_view_module": "@jupyter-widgets/base",
            "_view_module_version": "1.2.0",
            "_view_name": "LayoutView",
            "align_content": null,
            "align_items": null,
            "align_self": null,
            "border": null,
            "bottom": null,
            "display": null,
            "flex": null,
            "flex_flow": null,
            "grid_area": null,
            "grid_auto_columns": null,
            "grid_auto_flow": null,
            "grid_auto_rows": null,
            "grid_column": null,
            "grid_gap": null,
            "grid_row": null,
            "grid_template_areas": null,
            "grid_template_columns": null,
            "grid_template_rows": null,
            "height": null,
            "justify_content": null,
            "justify_items": null,
            "left": null,
            "margin": null,
            "max_height": null,
            "max_width": null,
            "min_height": null,
            "min_width": null,
            "object_fit": null,
            "object_position": null,
            "order": null,
            "overflow": null,
            "overflow_x": null,
            "overflow_y": null,
            "padding": null,
            "right": null,
            "top": null,
            "visibility": null,
            "width": null
          }
        },
        "9e69410b7186461d8c7a90e4c5b11ab6": {
          "model_module": "@jupyter-widgets/controls",
          "model_name": "SliderStyleModel",
          "model_module_version": "1.5.0",
          "state": {
            "_model_module": "@jupyter-widgets/controls",
            "_model_module_version": "1.5.0",
            "_model_name": "SliderStyleModel",
            "_view_count": null,
            "_view_module": "@jupyter-widgets/base",
            "_view_module_version": "1.2.0",
            "_view_name": "StyleView",
            "description_width": "",
            "handle_color": null
          }
        },
        "03198e7396c94fe2ae9177f489fd187c": {
          "model_module": "@jupyter-widgets/base",
          "model_name": "LayoutModel",
          "model_module_version": "1.2.0",
          "state": {
            "_model_module": "@jupyter-widgets/base",
            "_model_module_version": "1.2.0",
            "_model_name": "LayoutModel",
            "_view_count": null,
            "_view_module": "@jupyter-widgets/base",
            "_view_module_version": "1.2.0",
            "_view_name": "LayoutView",
            "align_content": null,
            "align_items": null,
            "align_self": null,
            "border": null,
            "bottom": null,
            "display": null,
            "flex": null,
            "flex_flow": null,
            "grid_area": null,
            "grid_auto_columns": null,
            "grid_auto_flow": null,
            "grid_auto_rows": null,
            "grid_column": null,
            "grid_gap": null,
            "grid_row": null,
            "grid_template_areas": null,
            "grid_template_columns": null,
            "grid_template_rows": null,
            "height": null,
            "justify_content": null,
            "justify_items": null,
            "left": null,
            "margin": null,
            "max_height": null,
            "max_width": null,
            "min_height": null,
            "min_width": null,
            "object_fit": null,
            "object_position": null,
            "order": null,
            "overflow": null,
            "overflow_x": null,
            "overflow_y": null,
            "padding": null,
            "right": null,
            "top": null,
            "visibility": null,
            "width": null
          }
        }
      }
    }
  },
  "cells": [
    {
      "cell_type": "markdown",
      "source": [
        "Install or import the libaries and modules"
      ],
      "metadata": {
        "id": "b7YFQqMzM41X"
      }
    },
    {
      "cell_type": "code",
      "source": [
        "# Install libraries.\n",
        "import numpy as np\n",
        "from scipy import stats"
      ],
      "metadata": {
        "id": "1grXShriM0GI"
      },
      "execution_count": null,
      "outputs": []
    },
    {
      "cell_type": "code",
      "source": [
        "import plotly.express as px\n",
        "import plotly.graph_objects as go\n",
        "from dash.dependencies import Input, Output"
      ],
      "metadata": {
        "id": "M5f26A26OPIe"
      },
      "execution_count": null,
      "outputs": []
    },
    {
      "cell_type": "code",
      "source": [
        "# Import required libraries\n",
        "#! pip install dash\n",
        "import dash\n",
        "import dash_core_components as dcc\n",
        "import dash_html_components as html\n",
        "from dash.dependencies import Input, Output"
      ],
      "metadata": {
        "id": "ehPZdhwFOdhj"
      },
      "execution_count": null,
      "outputs": []
    },
    {
      "cell_type": "code",
      "source": [
        "from ipywidgets import interact, widgets"
      ],
      "metadata": {
        "id": "l1D__SrhRLj4"
      },
      "execution_count": null,
      "outputs": []
    },
    {
      "cell_type": "code",
      "source": [
        "import plotly.graph_objects as go"
      ],
      "metadata": {
        "id": "hFsavq3VSPrg"
      },
      "execution_count": null,
      "outputs": []
    },
    {
      "cell_type": "markdown",
      "source": [
        "Get the data from Drive."
      ],
      "metadata": {
        "id": "9nv51gV1JcZS"
      }
    },
    {
      "cell_type": "code",
      "source": [
        "from google.colab import drive\n",
        "import pandas as pd\n",
        "\n",
        "# Mount Google Drive\n",
        "drive.mount('/content/drive')\n",
        "\n",
        "# Define file paths\n",
        "file_paths = {\n",
        "    '2013': '/content/drive/MyDrive/Coding/Temporary Alaska Data/Slope 7 Scaled/2013_ranked.csv',\n",
        "    '2015': '/content/drive/MyDrive/Coding/Temporary Alaska Data/Slope 7 Scaled/2015_ranked.csv',\n",
        "    '2017': '/content/drive/MyDrive/Coding/Temporary Alaska Data/Slope 7 Scaled/2017_ranked.csv',\n",
        "    '2018': '/content/drive/MyDrive/Coding/Temporary Alaska Data/Slope 7 Scaled/2018_ranked.csv',\n",
        "    '2019': '/content/drive/MyDrive/Coding/Temporary Alaska Data/Slope 7 Scaled/2019_ranked.csv',\n",
        "    '2020': '/content/drive/MyDrive/Coding/Temporary Alaska Data/Slope 7 Scaled/2020_ranked.csv'\n",
        "}\n",
        "\n",
        "# Load data into a dictionary of dataframes\n",
        "dataframes = {year: pd.read_csv(path) for year, path in file_paths.items()}\n",
        "\n",
        "# Show the first few rows of one of the dataframes to confirm it loaded correctly\n",
        "print(dataframes['2013'].head())\n"
      ],
      "metadata": {
        "colab": {
          "base_uri": "https://localhost:8080/"
        },
        "id": "175uy49GJfgq",
        "outputId": "25c4d9ac-d2fe-4e3d-b222-d7170d248423"
      },
      "execution_count": null,
      "outputs": [
        {
          "output_type": "stream",
          "name": "stdout",
          "text": [
            "Mounted at /content/drive\n",
            "     Volume  Normalized Rank\n",
            "0  0.896789         0.001524\n",
            "1  0.772838         0.003049\n",
            "2  0.645852         0.004573\n",
            "3  0.336486         0.006098\n",
            "4  0.313687         0.007622\n"
          ]
        }
      ]
    },
    {
      "cell_type": "markdown",
      "source": [
        "Map the lengths of the observation periods into a dictionary for later reference."
      ],
      "metadata": {
        "id": "PNAxN_b3J2k0"
      }
    },
    {
      "cell_type": "code",
      "source": [
        "# Dictionary to map years to number of days\n",
        "year_to_days = {\n",
        "    '2013': 656,\n",
        "    '2015': 812,\n",
        "    '2017': 378,\n",
        "    '2018': 347,\n",
        "    '2019': 276,\n",
        "    '2020': 366\n",
        "}\n",
        "\n",
        "# Verify by printing a sample\n",
        "print(\"Sample year-to-days mapping for 2013:\", year_to_days['2013'])\n"
      ],
      "metadata": {
        "colab": {
          "base_uri": "https://localhost:8080/"
        },
        "id": "0V_0zydoJk_K",
        "outputId": "89067e40-f3aa-459b-8b41-78d488ed9485"
      },
      "execution_count": null,
      "outputs": [
        {
          "output_type": "stream",
          "name": "stdout",
          "text": [
            "Sample year-to-days mapping for 2013: 656\n"
          ]
        }
      ]
    },
    {
      "cell_type": "markdown",
      "source": [
        "Create a function to calculate the KS statistic."
      ],
      "metadata": {
        "id": "8iwkM9j_N571"
      }
    },
    {
      "cell_type": "code",
      "source": [
        "# Function to calculate the Kolmogorov-Smirnov statistic.\n",
        "def MCF(year, vmin_limit):\n",
        "    df = dataframes[year]  # Get the dataframe from the dictionary.\n",
        "    days = year_to_days[year]  # Get the number of days in observation period.\n",
        "    volumes = df['Volume']\n",
        "\n",
        "    # Initialize an array to store vmin, D* pairs\n",
        "    vmin_Dstar_pairs = []\n",
        "\n",
        "    # Limit the value that volumes can take to only those below the top 1 order of magnitude.\n",
        "    vmin_limit = min(vmin_limit, 10 ** (int(np.floor(np.log10(volumes.max()))) - 1))\n",
        "#TODO: get rid of this vmin limit? why did i implement this again?\n",
        "    # Truncate the data set\n",
        "    truncated_volumes = volumes[volumes >= vmin_limit]\n",
        "    n_truncated = len(truncated_volumes)\n",
        "\n",
        "    # Calculate empirical CDF\n",
        "    ecdf = np.arange(1, n_truncated + 1) / n_truncated\n",
        "\n",
        "    # Calculate theoretical CDF\n",
        "    log_values_theoretical = np.log(truncated_volumes / vmin_limit)\n",
        "    b_hat = 1 + n_truncated * (np.sum(log_values_theoretical)) ** (-1)\n",
        "    tcdf = 1 - (truncated_volumes / vmin_limit) ** (1 - b_hat)\n",
        "\n",
        "    # Calculate D*, the weighted Kolmogorov-Smirnov statistic\n",
        "    D_star, p_value = stats.ks_2samp(ecdf, tcdf)\n",
        "\n",
        "    # Store current vmin, D*, and theoretical fit parameters\n",
        "    vmin_Dstar_pairs.append((vmin_limit, D_star, p_value, b_hat, n_truncated))\n",
        "\n",
        "    # Once done with the loop, store the vmin and D* where D* was minimized.\n",
        "    vmin_best, D_star_best, p_value, b_hat_best, n_truncated_best = min(vmin_Dstar_pairs, key=lambda x: x[1])\n",
        "\n",
        "    # Return the values where D* was minimized\n",
        "    return vmin_best, D_star_best, p_value, b_hat_best, n_truncated_best\n"
      ],
      "metadata": {
        "id": "7llUX6yEMdzk"
      },
      "execution_count": null,
      "outputs": []
    },
    {
      "cell_type": "markdown",
      "source": [
        "Create plotting functions, one for the MCF data with a power fit curve and one for viewing the empirical and theoretical CDFs."
      ],
      "metadata": {
        "id": "Tv4sj9gyN-hI"
      }
    },
    {
      "cell_type": "code",
      "source": [
        "# TODO: define ecdf and tcdf function\n"
      ],
      "metadata": {
        "id": "mRvvwv5TRdcb"
      },
      "execution_count": null,
      "outputs": []
    },
    {
      "cell_type": "markdown",
      "source": [
        "# Use ipywidgets to create interactive plot"
      ],
      "metadata": {
        "id": "sRPP_TOoRhz3"
      }
    },
    {
      "cell_type": "code",
      "source": [
        "# Create a dropdown for selecting the year\n",
        "year_widget = widgets.Dropdown(\n",
        "    options=['2013', '2015', '2017', '2018', '2019', '2020'],\n",
        "    value='2013',\n",
        "    description='Year:',\n",
        ")\n",
        "\n",
        "# Create a slider for selecting v_min, in a log scale\n",
        "vmin_widget = widgets.FloatLogSlider(\n",
        "    value=0.001,\n",
        "    base=10,\n",
        "    min=np.log10(0.0001), # max exponent of base\n",
        "    max=np.log10(0.1), # min exponent of base\n",
        "    step=0.1, # exponent step\n",
        "    description='v_min:'\n",
        ")\n",
        "\n",
        "# Function to update plots\n",
        "def update_plots(year, vmin):\n",
        "    print(f\"Selected Year: {year}, Selected vmin: {vmin}\")\n",
        "    # Here we will call the plotting and calculation functions\n",
        "    # For now, it just prints the selected values\n",
        "\n",
        "# Interactive widgets\n",
        "interact(update_plots, year=year_widget, vmin=vmin_widget)\n"
      ],
      "metadata": {
        "id": "rn13bQtXRluC"
      },
      "execution_count": null,
      "outputs": []
    },
    {
      "cell_type": "code",
      "source": [
        "def debug_update_plots(year, log_vmin):\n",
        "    print(f\"Debug - Selected Year: {year}, Selected vmin: {10 ** log_vmin}\")  # Debug print\n",
        "\n",
        "    # Try to print a sample from the selected dataframe\n",
        "    print(\"Debug - Sample data from selected dataframe:\")\n",
        "    print(dataframes[year].head())\n",
        "\n",
        "    vmin = 10 ** log_vmin  # Converting from log scale to linear scale\n",
        "\n",
        "    # Run the MCF function and print its output\n",
        "    vmin_best, D_star_best, p_value, b_hat_best, n_truncated_best = MCF(year)\n",
        "    print(f\"Debug - Output from MCF: {vmin_best, D_star_best, p_value, b_hat_best, n_truncated_best}\")  # Debug print\n",
        "\n",
        "    # Create a test plot with hardcoded values\n",
        "    fig = go.Figure(data=go.Scatter(x=[1, 2, 3, 4], y=[1, 4, 9, 16], mode='markers'))\n",
        "    fig.show()\n",
        "\n"
      ],
      "metadata": {
        "id": "vEGrfdvYTyT4"
      },
      "execution_count": null,
      "outputs": []
    },
    {
      "cell_type": "code",
      "source": [
        "def update_plots(year, log_vmin):\n",
        "    vmin = 10 ** log_vmin  # Converting from log scale to linear scale\n",
        "    # Calculations\n",
        "    vmin_best, D_star_best, p_value, b_hat_best, n_truncated_best = MCF(year, vmin)\n",
        "\n",
        "    # Get the selected dataframe\n",
        "    df = dataframes[year]\n",
        "\n",
        "    # Create the plot for Normalized Rank vs. Volume\n",
        "    fig = go.Figure(data=go.Scatter(x=df['Volume'], y=df['Normalized Rank'], mode='markers'))\n",
        "    fig.add_trace(go.Scatter(x=[vmin_best, vmin_best], y=[df['Normalized Rank'].min(), df['Normalized Rank'].max()], mode='lines', name='Vmin Line'))\n",
        "\n",
        "    fig.update_xaxes(type=\"log\")\n",
        "    fig.update_yaxes(type=\"log\")\n",
        "\n",
        "    fig.show()\n",
        "\n",
        "    print(f\"v_min: {vmin_best}, D*: {D_star_best}, p-value: {p_value}, b: {b_hat_best}, Number of events: {n_truncated_best}\")\n",
        "\n",
        "# Connect widgets to the function\n",
        "#interact(update_plots, year=year_widget, log_vmin=vmin_widget)\n",
        "\n",
        "# Connect widgets to the debug function\n",
        "interact(debug_update_plots, year=year_widget, log_vmin=vmin_widget)\n"
      ],
      "metadata": {
        "colab": {
          "base_uri": "https://localhost:8080/",
          "height": 622,
          "referenced_widgets": [
            "99289d8f420b46e99982b4ca79d21860",
            "8ea05011205f45b9ae68236149acf1dd",
            "73c40bfed4994be9971cc280869917d5",
            "ec262b95f5cc44debd0a7666ad6a753c",
            "baefc4ea4b734b09b192c4bee1dab82c",
            "7391384c2569470ea76508184c35df0a",
            "47e875d9b15f47838c536b6cbaec24c3",
            "c02d78b0b95b4479b015fecbae9815e9",
            "9e69410b7186461d8c7a90e4c5b11ab6",
            "03198e7396c94fe2ae9177f489fd187c"
          ]
        },
        "id": "KY-9SMt8SM4a",
        "outputId": "dc39fa3f-8d1d-433e-92ef-63d5392be850"
      },
      "execution_count": null,
      "outputs": [
        {
          "output_type": "display_data",
          "data": {
            "text/plain": [
              "interactive(children=(Dropdown(description='Year:', options=('2013', '2015', '2017', '2018', '2019', '2020'), …"
            ],
            "application/vnd.jupyter.widget-view+json": {
              "version_major": 2,
              "version_minor": 0,
              "model_id": "99289d8f420b46e99982b4ca79d21860"
            }
          },
          "metadata": {}
        },
        {
          "output_type": "execute_result",
          "data": {
            "text/plain": [
              "<function __main__.debug_update_plots(year, log_vmin)>"
            ]
          },
          "metadata": {},
          "execution_count": 23
        }
      ]
    },
    {
      "cell_type": "markdown",
      "source": [
        "# Darn, come back to this later. Dash giving 403 error in colab.\n",
        "(In the original layout, the Initialize Dash App cell came immediately before the \"# Function to calculate the Kolmogorov-Smirnov statistic.\"\n",
        "\n",
        "Create an interactive Dash app that will show the plots and parameters of interest."
      ],
      "metadata": {
        "id": "b-icbqfqLMPt"
      }
    },
    {
      "cell_type": "code",
      "source": [
        "# Initialize the Dash App\n",
        "app = dash.Dash(__name__)\n",
        "\n",
        "# Define the Layout\n",
        "app.layout = html.Div([\n",
        "    dcc.Dropdown(\n",
        "        id='year-selector',\n",
        "        options=[{'label': year, 'value': year} for year in dataframes.keys()],\n",
        "        value='2013',  # Default value\n",
        "        style={'width': '50%'}\n",
        "    ),\n",
        "    dcc.Slider(\n",
        "        id='vmin-slider',\n",
        "        min=np.log10(0.0001),  # log10 of actual min\n",
        "        max=np.log10(0.1),  # log10 of actual max\n",
        "        step=0.1,  # Step in log10 scale\n",
        "        value=np.log10(0.001),  # log10 of default value\n",
        "        marks={np.log10(x): str(x) for x in [0.0001, 0.0003, 0.001, 0.003, 0.01, 0.03, 0.1]}  # Logarithmic marks\n",
        "    ),\n",
        "    html.Div([\n",
        "        dcc.Graph(id='data-plot'),\n",
        "        dcc.Graph(id='cdf-plot')\n",
        "    ], style={'display': 'flex', 'justify-content': 'space-between'}),\n",
        "    html.Div(id='result-display')\n",
        "])\n",
        "\n",
        "# Define the Callback to Update the Plots\n",
        "@app.callback(\n",
        "    [Output('data-plot', 'figure'),\n",
        "     Output('cdf-plot', 'figure'),\n",
        "     Output('result-display', 'children')],\n",
        "    [Input('year-selector', 'value'),\n",
        "     Input('vmin-slider', 'value')]\n",
        ")\n",
        "def update_plots(selected_year, log_selected_vmin):\n",
        "    # Convert log-selected vmin back to linear scale\n",
        "    selected_vmin = 10 ** log_selected_vmin\n",
        "\n",
        "    # Calculate values using the MCF function\n",
        "    vmin_best, D_star_best, p_value, b_hat_best, n_truncated_best = MCF(selected_year, selected_vmin)\n",
        "\n",
        "    # Get the selected dataframe\n",
        "    df = dataframes[selected_year]\n",
        "\n",
        "    # Create the plot for Normalized Rank vs. Volume\n",
        "    fig1 = px.scatter(df, x='Volume', y='Normalized Rank', log_x=True, log_y=True)\n",
        "    fig1.add_trace(go.Line(x=[vmin_best, vmin_best], y=[df['Normalized Rank'].min(), df['Normalized Rank'].max()], name='Vmin Line'))\n",
        "\n",
        "    # Create the plot for Empirical and Theoretical CDF\n",
        "    # TODO: right now it's just a dummy function for progression.\n",
        "    # dummy plot function for development.\n",
        "    fig2 = go.Figure()\n",
        "    fig2.add_trace(go.Scatter(x=[1, 2, 3], y=[1, 4, 9], mode='lines', name='Dummy Line'))\n",
        "\n",
        "    # Placeholder for the CDF plot\n",
        "    #fig2 = go.Figure() #TODO: use this later when you replace the dummy function\n",
        "\n",
        "    # Results to display\n",
        "    result_text = f\"v_min: {vmin_best}, D*: {D_star_best}, p-value: {p_value}, b: {b_hat_best}, Number of events: {n_truncated_best}\"\n",
        "\n",
        "    return fig1, fig2, result_text\n",
        "\n",
        "# Run the app\n",
        "if __name__ == '__main__':\n",
        "  app.run_server(mode='external')\n"
      ],
      "metadata": {
        "colab": {
          "base_uri": "https://localhost:8080/",
          "height": 671
        },
        "id": "UqaRRQwKKpsK",
        "outputId": "46612651-50ea-413d-d5f1-f351eeb92bfc"
      },
      "execution_count": null,
      "outputs": [
        {
          "output_type": "display_data",
          "data": {
            "text/plain": [
              "<IPython.core.display.Javascript object>"
            ],
            "application/javascript": [
              "(async (port, path, width, height, cache, element) => {\n",
              "    if (!google.colab.kernel.accessAllowed && !cache) {\n",
              "      return;\n",
              "    }\n",
              "    element.appendChild(document.createTextNode(''));\n",
              "    const url = await google.colab.kernel.proxyPort(port, {cache});\n",
              "    const iframe = document.createElement('iframe');\n",
              "    iframe.src = new URL(path, url).toString();\n",
              "    iframe.height = height;\n",
              "    iframe.width = width;\n",
              "    iframe.style.border = 0;\n",
              "    iframe.allow = [\n",
              "        'accelerometer',\n",
              "        'autoplay',\n",
              "        'camera',\n",
              "        'clipboard-read',\n",
              "        'clipboard-write',\n",
              "        'gyroscope',\n",
              "        'magnetometer',\n",
              "        'microphone',\n",
              "        'serial',\n",
              "        'usb',\n",
              "        'xr-spatial-tracking',\n",
              "    ].join('; ');\n",
              "    element.appendChild(iframe);\n",
              "  })(8050, \"/\", \"100%\", 650, false, window.element)"
            ]
          },
          "metadata": {}
        }
      ]
    }
  ]
}