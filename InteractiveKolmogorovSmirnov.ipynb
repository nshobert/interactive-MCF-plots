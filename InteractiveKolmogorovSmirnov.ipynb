{
  "cells": [
    {
      "cell_type": "markdown",
      "metadata": {
        "id": "b7YFQqMzM41X"
      },
      "source": [
        "Install or import the libaries and modules"
      ]
    },
    {
      "cell_type": "code",
      "execution_count": 1,
      "metadata": {
        "id": "1grXShriM0GI"
      },
      "outputs": [],
      "source": [
        "# Install libraries.\n",
        "import numpy as np\n",
        "import pandas as pd\n",
        "from scipy import stats\n",
        "import plotly.express as px\n",
        "import plotly.graph_objects as go\n",
        "import dash\n",
        "from dash import dcc\n",
        "from dash import html\n",
        "from dash.dependencies import Input, Output\n",
        "import calculate_MCF as cMCF"
      ]
    },
    {
      "cell_type": "markdown",
      "metadata": {
        "id": "9nv51gV1JcZS"
      },
      "source": [
        "Get the data."
      ]
    },
    {
      "cell_type": "code",
      "execution_count": null,
      "metadata": {
        "colab": {
          "base_uri": "https://localhost:8080/"
        },
        "id": "175uy49GJfgq",
        "outputId": "25c4d9ac-d2fe-4e3d-b222-d7170d248423"
      },
      "outputs": [],
      "source": [
        "# Define file paths #TODO: change to iterate through data folder and assign keys.\n",
        "file_paths = {\n",
        "    '2013': 'C:\\\\Users\\\\marcu\\\\Code\\\\KS-Statistic-Interactive\\\\data\\\\2013_ranked.csv',\n",
        "    '2015': 'C:\\\\Users\\\\marcu\\\\Code\\\\KS-Statistic-Interactive\\\\data\\\\2015_ranked.csv',\n",
        "    '2017': 'C:\\\\Users\\\\marcu\\\\Code\\\\KS-Statistic-Interactive\\\\data\\\\2017_ranked.csv',\n",
        "    '2018': 'C:\\\\Users\\\\marcu\\\\Code\\\\KS-Statistic-Interactive\\\\data\\\\2018_ranked.csv',\n",
        "    '2019': 'C:\\\\Users\\\\marcu\\\\Code\\\\KS-Statistic-Interactive\\\\data\\\\2019_ranked.csv',\n",
        "    '2020': 'C:\\\\Users\\\\marcu\\\\Code\\\\KS-Statistic-Interactive\\\\data\\\\2020_ranked.csv'\n",
        "}\n",
        "\n",
        "# Load data into a dictionary of dataframes\n",
        "dataframes = {year: pd.read_csv(path) for year, path in file_paths.items()}\n",
        "\n",
        "# Show the first few rows of one of the dataframes to confirm it loaded correctly\n",
        "print(dataframes['2013'].head())\n"
      ]
    },
    {
      "cell_type": "markdown",
      "metadata": {
        "id": "PNAxN_b3J2k0"
      },
      "source": [
        "Map the lengths of the observation periods into a dictionary for later reference."
      ]
    },
    {
      "cell_type": "code",
      "execution_count": null,
      "metadata": {
        "colab": {
          "base_uri": "https://localhost:8080/"
        },
        "id": "0V_0zydoJk_K",
        "outputId": "89067e40-f3aa-459b-8b41-78d488ed9485"
      },
      "outputs": [],
      "source": [
        "# Dictionary to map years to number of days\n",
        "year_to_days = {\n",
        "    '2013': 656,\n",
        "    '2015': 812,\n",
        "    '2017': 378,\n",
        "    '2018': 347,\n",
        "    '2019': 276,\n",
        "    '2020': 366\n",
        "}\n",
        "\n",
        "# Verify by printing a sample\n",
        "print(\"Sample year-to-days mapping for 2013:\", year_to_days['2013'])\n"
      ]
    },
    {
      "cell_type": "markdown",
      "metadata": {
        "id": "b-icbqfqLMPt"
      },
      "source": [
        "# Create a Dash app to interact with the plots.\n",
        "\n",
        "Create an interactive Dash app that will show the plots and parameters of interest."
      ]
    },
    {
      "cell_type": "code",
      "execution_count": 2,
      "metadata": {
        "colab": {
          "base_uri": "https://localhost:8080/",
          "height": 671
        },
        "id": "UqaRRQwKKpsK",
        "outputId": "46612651-50ea-413d-d5f1-f351eeb92bfc"
      },
      "outputs": [
        {
          "ename": "NameError",
          "evalue": "name 'dataframes' is not defined",
          "output_type": "error",
          "traceback": [
            "\u001b[1;31m---------------------------------------------------------------------------\u001b[0m",
            "\u001b[1;31mNameError\u001b[0m                                 Traceback (most recent call last)",
            "\u001b[1;32mc:\\Users\\marcu\\Code\\KS-Statistic-Interactive\\InteractiveKolmogorovSmirnov.ipynb Cell 8\u001b[0m line \u001b[0;36m8\n\u001b[0;32m      <a href='vscode-notebook-cell:/c%3A/Users/marcu/Code/KS-Statistic-Interactive/InteractiveKolmogorovSmirnov.ipynb#X21sZmlsZQ%3D%3D?line=1'>2</a>\u001b[0m app \u001b[39m=\u001b[39m dash\u001b[39m.\u001b[39mDash(\u001b[39m__name__\u001b[39m)\n\u001b[0;32m      <a href='vscode-notebook-cell:/c%3A/Users/marcu/Code/KS-Statistic-Interactive/InteractiveKolmogorovSmirnov.ipynb#X21sZmlsZQ%3D%3D?line=3'>4</a>\u001b[0m \u001b[39m# Define the Layout\u001b[39;00m\n\u001b[0;32m      <a href='vscode-notebook-cell:/c%3A/Users/marcu/Code/KS-Statistic-Interactive/InteractiveKolmogorovSmirnov.ipynb#X21sZmlsZQ%3D%3D?line=4'>5</a>\u001b[0m app\u001b[39m.\u001b[39mlayout \u001b[39m=\u001b[39m html\u001b[39m.\u001b[39mDiv([\n\u001b[0;32m      <a href='vscode-notebook-cell:/c%3A/Users/marcu/Code/KS-Statistic-Interactive/InteractiveKolmogorovSmirnov.ipynb#X21sZmlsZQ%3D%3D?line=5'>6</a>\u001b[0m     dcc\u001b[39m.\u001b[39mDropdown(\n\u001b[0;32m      <a href='vscode-notebook-cell:/c%3A/Users/marcu/Code/KS-Statistic-Interactive/InteractiveKolmogorovSmirnov.ipynb#X21sZmlsZQ%3D%3D?line=6'>7</a>\u001b[0m         \u001b[39mid\u001b[39m\u001b[39m=\u001b[39m\u001b[39m'\u001b[39m\u001b[39myear-selector\u001b[39m\u001b[39m'\u001b[39m,\n\u001b[1;32m----> <a href='vscode-notebook-cell:/c%3A/Users/marcu/Code/KS-Statistic-Interactive/InteractiveKolmogorovSmirnov.ipynb#X21sZmlsZQ%3D%3D?line=7'>8</a>\u001b[0m         options\u001b[39m=\u001b[39m[{\u001b[39m'\u001b[39m\u001b[39mlabel\u001b[39m\u001b[39m'\u001b[39m: year, \u001b[39m'\u001b[39m\u001b[39mvalue\u001b[39m\u001b[39m'\u001b[39m: year} \u001b[39mfor\u001b[39;00m year \u001b[39min\u001b[39;00m dataframes\u001b[39m.\u001b[39mkeys()],\n\u001b[0;32m      <a href='vscode-notebook-cell:/c%3A/Users/marcu/Code/KS-Statistic-Interactive/InteractiveKolmogorovSmirnov.ipynb#X21sZmlsZQ%3D%3D?line=8'>9</a>\u001b[0m         value\u001b[39m=\u001b[39m\u001b[39m'\u001b[39m\u001b[39m2013\u001b[39m\u001b[39m'\u001b[39m,  \u001b[39m# Default value\u001b[39;00m\n\u001b[0;32m     <a href='vscode-notebook-cell:/c%3A/Users/marcu/Code/KS-Statistic-Interactive/InteractiveKolmogorovSmirnov.ipynb#X21sZmlsZQ%3D%3D?line=9'>10</a>\u001b[0m         style\u001b[39m=\u001b[39m{\u001b[39m'\u001b[39m\u001b[39mwidth\u001b[39m\u001b[39m'\u001b[39m: \u001b[39m'\u001b[39m\u001b[39m50\u001b[39m\u001b[39m%\u001b[39m\u001b[39m'\u001b[39m}\n\u001b[0;32m     <a href='vscode-notebook-cell:/c%3A/Users/marcu/Code/KS-Statistic-Interactive/InteractiveKolmogorovSmirnov.ipynb#X21sZmlsZQ%3D%3D?line=10'>11</a>\u001b[0m     ),\n\u001b[0;32m     <a href='vscode-notebook-cell:/c%3A/Users/marcu/Code/KS-Statistic-Interactive/InteractiveKolmogorovSmirnov.ipynb#X21sZmlsZQ%3D%3D?line=11'>12</a>\u001b[0m     dcc\u001b[39m.\u001b[39mSlider(\n\u001b[0;32m     <a href='vscode-notebook-cell:/c%3A/Users/marcu/Code/KS-Statistic-Interactive/InteractiveKolmogorovSmirnov.ipynb#X21sZmlsZQ%3D%3D?line=12'>13</a>\u001b[0m         \u001b[39mid\u001b[39m\u001b[39m=\u001b[39m\u001b[39m'\u001b[39m\u001b[39mvmin-slider\u001b[39m\u001b[39m'\u001b[39m,\n\u001b[0;32m     <a href='vscode-notebook-cell:/c%3A/Users/marcu/Code/KS-Statistic-Interactive/InteractiveKolmogorovSmirnov.ipynb#X21sZmlsZQ%3D%3D?line=13'>14</a>\u001b[0m         \u001b[39mmin\u001b[39m\u001b[39m=\u001b[39mnp\u001b[39m.\u001b[39mlog10(\u001b[39m0.0001\u001b[39m),  \u001b[39m# log10 of actual min\u001b[39;00m\n\u001b[0;32m     <a href='vscode-notebook-cell:/c%3A/Users/marcu/Code/KS-Statistic-Interactive/InteractiveKolmogorovSmirnov.ipynb#X21sZmlsZQ%3D%3D?line=14'>15</a>\u001b[0m         \u001b[39mmax\u001b[39m\u001b[39m=\u001b[39mnp\u001b[39m.\u001b[39mlog10(\u001b[39m1\u001b[39m),  \u001b[39m# log10 of actual max\u001b[39;00m\n\u001b[0;32m     <a href='vscode-notebook-cell:/c%3A/Users/marcu/Code/KS-Statistic-Interactive/InteractiveKolmogorovSmirnov.ipynb#X21sZmlsZQ%3D%3D?line=15'>16</a>\u001b[0m         step\u001b[39m=\u001b[39m\u001b[39m0.01\u001b[39m,  \u001b[39m# Step in log10 scale\u001b[39;00m\n\u001b[0;32m     <a href='vscode-notebook-cell:/c%3A/Users/marcu/Code/KS-Statistic-Interactive/InteractiveKolmogorovSmirnov.ipynb#X21sZmlsZQ%3D%3D?line=16'>17</a>\u001b[0m         value\u001b[39m=\u001b[39mnp\u001b[39m.\u001b[39mlog10(\u001b[39m0.0001\u001b[39m),  \u001b[39m# log10 of default value\u001b[39;00m\n\u001b[0;32m     <a href='vscode-notebook-cell:/c%3A/Users/marcu/Code/KS-Statistic-Interactive/InteractiveKolmogorovSmirnov.ipynb#X21sZmlsZQ%3D%3D?line=17'>18</a>\u001b[0m         marks\u001b[39m=\u001b[39m{np\u001b[39m.\u001b[39mlog10(x): \u001b[39mstr\u001b[39m(x) \u001b[39mfor\u001b[39;00m x \u001b[39min\u001b[39;00m [\u001b[39m0.0001\u001b[39m, \u001b[39m0.0003\u001b[39m, \u001b[39m0.001\u001b[39m, \u001b[39m0.003\u001b[39m, \u001b[39m0.01\u001b[39m, \u001b[39m0.03\u001b[39m, \u001b[39m0.1\u001b[39m]}  \u001b[39m# Logarithmic marks\u001b[39;00m\n\u001b[0;32m     <a href='vscode-notebook-cell:/c%3A/Users/marcu/Code/KS-Statistic-Interactive/InteractiveKolmogorovSmirnov.ipynb#X21sZmlsZQ%3D%3D?line=18'>19</a>\u001b[0m     ),\n\u001b[0;32m     <a href='vscode-notebook-cell:/c%3A/Users/marcu/Code/KS-Statistic-Interactive/InteractiveKolmogorovSmirnov.ipynb#X21sZmlsZQ%3D%3D?line=19'>20</a>\u001b[0m     html\u001b[39m.\u001b[39mDiv([\n\u001b[0;32m     <a href='vscode-notebook-cell:/c%3A/Users/marcu/Code/KS-Statistic-Interactive/InteractiveKolmogorovSmirnov.ipynb#X21sZmlsZQ%3D%3D?line=20'>21</a>\u001b[0m         dcc\u001b[39m.\u001b[39mGraph(\u001b[39mid\u001b[39m\u001b[39m=\u001b[39m\u001b[39m'\u001b[39m\u001b[39mdata-plot\u001b[39m\u001b[39m'\u001b[39m),\n\u001b[0;32m     <a href='vscode-notebook-cell:/c%3A/Users/marcu/Code/KS-Statistic-Interactive/InteractiveKolmogorovSmirnov.ipynb#X21sZmlsZQ%3D%3D?line=21'>22</a>\u001b[0m         dcc\u001b[39m.\u001b[39mGraph(\u001b[39mid\u001b[39m\u001b[39m=\u001b[39m\u001b[39m'\u001b[39m\u001b[39mcdf-plot\u001b[39m\u001b[39m'\u001b[39m)\n\u001b[0;32m     <a href='vscode-notebook-cell:/c%3A/Users/marcu/Code/KS-Statistic-Interactive/InteractiveKolmogorovSmirnov.ipynb#X21sZmlsZQ%3D%3D?line=22'>23</a>\u001b[0m     ], style\u001b[39m=\u001b[39m{\u001b[39m'\u001b[39m\u001b[39mdisplay\u001b[39m\u001b[39m'\u001b[39m: \u001b[39m'\u001b[39m\u001b[39mflex\u001b[39m\u001b[39m'\u001b[39m, \u001b[39m'\u001b[39m\u001b[39mjustify-content\u001b[39m\u001b[39m'\u001b[39m: \u001b[39m'\u001b[39m\u001b[39mspace-between\u001b[39m\u001b[39m'\u001b[39m}),\n\u001b[0;32m     <a href='vscode-notebook-cell:/c%3A/Users/marcu/Code/KS-Statistic-Interactive/InteractiveKolmogorovSmirnov.ipynb#X21sZmlsZQ%3D%3D?line=23'>24</a>\u001b[0m     html\u001b[39m.\u001b[39mDiv(\u001b[39mid\u001b[39m\u001b[39m=\u001b[39m\u001b[39m'\u001b[39m\u001b[39mresult-display\u001b[39m\u001b[39m'\u001b[39m)\n\u001b[0;32m     <a href='vscode-notebook-cell:/c%3A/Users/marcu/Code/KS-Statistic-Interactive/InteractiveKolmogorovSmirnov.ipynb#X21sZmlsZQ%3D%3D?line=24'>25</a>\u001b[0m ])\n\u001b[0;32m     <a href='vscode-notebook-cell:/c%3A/Users/marcu/Code/KS-Statistic-Interactive/InteractiveKolmogorovSmirnov.ipynb#X21sZmlsZQ%3D%3D?line=26'>27</a>\u001b[0m \u001b[39m# Define the Callback to Update the Plots\u001b[39;00m\n\u001b[0;32m     <a href='vscode-notebook-cell:/c%3A/Users/marcu/Code/KS-Statistic-Interactive/InteractiveKolmogorovSmirnov.ipynb#X21sZmlsZQ%3D%3D?line=27'>28</a>\u001b[0m \u001b[39m@app\u001b[39m\u001b[39m.\u001b[39mcallback(\n\u001b[0;32m     <a href='vscode-notebook-cell:/c%3A/Users/marcu/Code/KS-Statistic-Interactive/InteractiveKolmogorovSmirnov.ipynb#X21sZmlsZQ%3D%3D?line=28'>29</a>\u001b[0m     [Output(\u001b[39m'\u001b[39m\u001b[39mdata-plot\u001b[39m\u001b[39m'\u001b[39m, \u001b[39m'\u001b[39m\u001b[39mfigure\u001b[39m\u001b[39m'\u001b[39m),\n\u001b[0;32m     <a href='vscode-notebook-cell:/c%3A/Users/marcu/Code/KS-Statistic-Interactive/InteractiveKolmogorovSmirnov.ipynb#X21sZmlsZQ%3D%3D?line=29'>30</a>\u001b[0m      Output(\u001b[39m'\u001b[39m\u001b[39mcdf-plot\u001b[39m\u001b[39m'\u001b[39m, \u001b[39m'\u001b[39m\u001b[39mfigure\u001b[39m\u001b[39m'\u001b[39m),\n\u001b[1;32m   (...)\u001b[0m\n\u001b[0;32m     <a href='vscode-notebook-cell:/c%3A/Users/marcu/Code/KS-Statistic-Interactive/InteractiveKolmogorovSmirnov.ipynb#X21sZmlsZQ%3D%3D?line=34'>35</a>\u001b[0m \u001b[39mdef\u001b[39;00m \u001b[39mupdate_plots\u001b[39m(selected_year, log_selected_vmin):\n\u001b[0;32m     <a href='vscode-notebook-cell:/c%3A/Users/marcu/Code/KS-Statistic-Interactive/InteractiveKolmogorovSmirnov.ipynb#X21sZmlsZQ%3D%3D?line=35'>36</a>\u001b[0m     \u001b[39m# Convert log-selected vmin back to linear scale\u001b[39;00m\n",
            "\u001b[1;31mNameError\u001b[0m: name 'dataframes' is not defined"
          ]
        }
      ],
      "source": [
        "# Initialize the Dash App\n",
        "app = dash.Dash(__name__)\n",
        "\n",
        "# Define the Layout\n",
        "app.layout = html.Div([\n",
        "    dcc.Dropdown(\n",
        "        id='year-selector',\n",
        "        options=[{'label': year, 'value': year} for year in cMCF.dataframes.keys()],\n",
        "        value='2013',  # Default value\n",
        "        style={'width': '50%'}\n",
        "    ),\n",
        "    dcc.Slider(\n",
        "        id='vmin-slider',\n",
        "        min=np.log10(0.0001),  # log10 of actual min\n",
        "        max=np.log10(1),  # log10 of actual max\n",
        "        step=0.01,  # Step in log10 scale\n",
        "        value=np.log10(0.0001),  # log10 of default value\n",
        "        marks={np.log10(x): str(x) for x in [0.0001, 0.0003, 0.001, 0.003, 0.01, 0.03, 0.1]}  # Logarithmic marks\n",
        "    ),\n",
        "    html.Div([\n",
        "        dcc.Graph(id='data-plot'),\n",
        "        dcc.Graph(id='cdf-plot')\n",
        "    ], style={'display': 'flex', 'justify-content': 'space-between'}),\n",
        "    html.Div(id='result-display')\n",
        "])\n",
        "\n",
        "# Define the Callback to Update the Plots\n",
        "@app.callback(\n",
        "    [Output('data-plot', 'figure'),\n",
        "     Output('cdf-plot', 'figure'),\n",
        "     Output('result-display', 'children')],\n",
        "    [Input('year-selector', 'value'),\n",
        "     Input('vmin-slider', 'value')]\n",
        ")\n",
        "def update_plots(selected_year, log_selected_vmin):\n",
        "    # Convert log-selected vmin back to linear scale\n",
        "    selected_vmin = 10 ** log_selected_vmin\n",
        "\n",
        "    # Calculate values using the MCF function\n",
        "    vmin_best, D_star_best, p_value, b_hat_best, n_truncated_best = cMCF.MCF(selected_year, selected_vmin)\n",
        "\n",
        "    # Get the selected dataframe\n",
        "    df = cMCF.dataframes[selected_year]\n",
        "\n",
        "    # Create the plot for Normalized Rank vs. Volume\n",
        "    fig1 = px.scatter(df, x='Volume', y='Normalized Rank', log_x=True, log_y=True)\n",
        "    fig1.add_trace(go.Scatter(\n",
        "        x=[vmin_best, vmin_best],\n",
        "        y=[df['Normalized Rank'].min(), df['Normalized Rank'].max()],\n",
        "        mode='lines',\n",
        "        name='Vmin Line'\n",
        "    ))\n",
        "\n",
        "    # Create the plot for Empirical and Theoretical CDF\n",
        "    # TODO: right now it's just a dummy function for progression.\n",
        "    # dummy plot function for development.\n",
        "    fig2 = go.Figure()\n",
        "    fig2.add_trace(go.Scatter(x=[1, 2, 3], y=[1, 4, 9], mode='lines', name='Dummy Line'))\n",
        "\n",
        "    # Placeholder for the CDF plot\n",
        "    #fig2 = go.Figure() #TODO: use this later when you replace the dummy function\n",
        "\n",
        "    # Results to display\n",
        "    result_text = f\"v_min: {vmin_best}, D*: {D_star_best}, p-value: {p_value}, b: {b_hat_best}, Number of events: {n_truncated_best}\"\n",
        "\n",
        "    return fig1, fig2, result_text\n",
        "\n",
        "# Run the app\n",
        "if __name__ == '__main__':\n",
        "  app.run_server(mode='external')\n"
      ]
    },
    {
      "cell_type": "markdown",
      "metadata": {
        "id": "8iwkM9j_N571"
      },
      "source": [
        "Create a function to calculate the KS statistic."
      ]
    },
    {
      "cell_type": "code",
      "execution_count": null,
      "metadata": {
        "id": "7llUX6yEMdzk"
      },
      "outputs": [],
      "source": [
        "# Function to calculate the Kolmogorov-Smirnov statistic.\n",
        "def MCF(year, vmin_limit):\n",
        "    df = dataframes[year]  # Get the dataframe from the dictionary.\n",
        "    days = year_to_days[year]  # Get the number of days in observation period.\n",
        "    volumes = df['Volume']\n",
        "\n",
        "    # Initialize an array to store vmin, D* pairs\n",
        "    vmin_Dstar_pairs = []\n",
        "\n",
        "    # Limit the value that volumes can take to only those below the top 1 order of magnitude.\n",
        "    #vmin_limit = min(vmin_limit, 10 ** (int(np.floor(np.log10(volumes.max()))) - 1))\n",
        "    #TODO: get rid of this vmin limit? why did i implement this again? leave commented out for now...\n",
        "    # Truncate the data set\n",
        "    truncated_volumes = volumes[volumes >= vmin_limit]\n",
        "    n_truncated = len(truncated_volumes)\n",
        "\n",
        "    # Calculate empirical CDF\n",
        "    ecdf = np.arange(1, n_truncated + 1) / n_truncated\n",
        "\n",
        "    # Calculate theoretical CDF\n",
        "    log_values_theoretical = np.log(truncated_volumes / vmin_limit)\n",
        "    b_hat = 1 + n_truncated * (np.sum(log_values_theoretical)) ** (-1)\n",
        "    tcdf = 1 - (truncated_volumes / vmin_limit) ** (1 - b_hat)\n",
        "\n",
        "    # Calculate D*, the weighted Kolmogorov-Smirnov statistic\n",
        "    D_star, p_value = stats.ks_2samp(ecdf, tcdf)\n",
        "\n",
        "    # Store current vmin, D*, and theoretical fit parameters\n",
        "    vmin_Dstar_pairs.append((vmin_limit, D_star, p_value, b_hat, n_truncated))\n",
        "\n",
        "    # Once done with the loop, store the vmin and D* where D* was minimized.\n",
        "    vmin_best, D_star_best, p_value, b_hat_best, n_truncated_best = min(vmin_Dstar_pairs, key=lambda x: x[1])\n",
        "\n",
        "    # Return the values where D* was minimized\n",
        "    return vmin_best, D_star_best, p_value, b_hat_best, n_truncated_best\n"
      ]
    },
    {
      "cell_type": "markdown",
      "metadata": {
        "id": "Tv4sj9gyN-hI"
      },
      "source": [
        "Create plotting functions, one for the MCF data with a power fit curve and one for viewing the empirical and theoretical CDFs."
      ]
    },
    {
      "cell_type": "code",
      "execution_count": null,
      "metadata": {
        "id": "mRvvwv5TRdcb"
      },
      "outputs": [],
      "source": [
        "# TODO: define ecdf and tcdf function\n"
      ]
    }
  ],
  "metadata": {
    "colab": {
      "provenance": []
    },
    "kernelspec": {
      "display_name": "Python 3",
      "name": "python3"
    },
    "language_info": {
      "codemirror_mode": {
        "name": "ipython",
        "version": 3
      },
      "file_extension": ".py",
      "mimetype": "text/x-python",
      "name": "python",
      "nbconvert_exporter": "python",
      "pygments_lexer": "ipython3",
      "version": "3.11.5"
    },
    "widgets": {
      "application/vnd.jupyter.widget-state+json": {
        "03198e7396c94fe2ae9177f489fd187c": {
          "model_module": "@jupyter-widgets/base",
          "model_module_version": "1.2.0",
          "model_name": "LayoutModel",
          "state": {
            "_model_module": "@jupyter-widgets/base",
            "_model_module_version": "1.2.0",
            "_model_name": "LayoutModel",
            "_view_count": null,
            "_view_module": "@jupyter-widgets/base",
            "_view_module_version": "1.2.0",
            "_view_name": "LayoutView",
            "align_content": null,
            "align_items": null,
            "align_self": null,
            "border": null,
            "bottom": null,
            "display": null,
            "flex": null,
            "flex_flow": null,
            "grid_area": null,
            "grid_auto_columns": null,
            "grid_auto_flow": null,
            "grid_auto_rows": null,
            "grid_column": null,
            "grid_gap": null,
            "grid_row": null,
            "grid_template_areas": null,
            "grid_template_columns": null,
            "grid_template_rows": null,
            "height": null,
            "justify_content": null,
            "justify_items": null,
            "left": null,
            "margin": null,
            "max_height": null,
            "max_width": null,
            "min_height": null,
            "min_width": null,
            "object_fit": null,
            "object_position": null,
            "order": null,
            "overflow": null,
            "overflow_x": null,
            "overflow_y": null,
            "padding": null,
            "right": null,
            "top": null,
            "visibility": null,
            "width": null
          }
        },
        "47e875d9b15f47838c536b6cbaec24c3": {
          "model_module": "@jupyter-widgets/controls",
          "model_module_version": "1.5.0",
          "model_name": "DescriptionStyleModel",
          "state": {
            "_model_module": "@jupyter-widgets/controls",
            "_model_module_version": "1.5.0",
            "_model_name": "DescriptionStyleModel",
            "_view_count": null,
            "_view_module": "@jupyter-widgets/base",
            "_view_module_version": "1.2.0",
            "_view_name": "StyleView",
            "description_width": ""
          }
        },
        "7391384c2569470ea76508184c35df0a": {
          "model_module": "@jupyter-widgets/base",
          "model_module_version": "1.2.0",
          "model_name": "LayoutModel",
          "state": {
            "_model_module": "@jupyter-widgets/base",
            "_model_module_version": "1.2.0",
            "_model_name": "LayoutModel",
            "_view_count": null,
            "_view_module": "@jupyter-widgets/base",
            "_view_module_version": "1.2.0",
            "_view_name": "LayoutView",
            "align_content": null,
            "align_items": null,
            "align_self": null,
            "border": null,
            "bottom": null,
            "display": null,
            "flex": null,
            "flex_flow": null,
            "grid_area": null,
            "grid_auto_columns": null,
            "grid_auto_flow": null,
            "grid_auto_rows": null,
            "grid_column": null,
            "grid_gap": null,
            "grid_row": null,
            "grid_template_areas": null,
            "grid_template_columns": null,
            "grid_template_rows": null,
            "height": null,
            "justify_content": null,
            "justify_items": null,
            "left": null,
            "margin": null,
            "max_height": null,
            "max_width": null,
            "min_height": null,
            "min_width": null,
            "object_fit": null,
            "object_position": null,
            "order": null,
            "overflow": null,
            "overflow_x": null,
            "overflow_y": null,
            "padding": null,
            "right": null,
            "top": null,
            "visibility": null,
            "width": null
          }
        },
        "73c40bfed4994be9971cc280869917d5": {
          "model_module": "@jupyter-widgets/controls",
          "model_module_version": "1.5.0",
          "model_name": "FloatLogSliderModel",
          "state": {
            "_dom_classes": [],
            "_model_module": "@jupyter-widgets/controls",
            "_model_module_version": "1.5.0",
            "_model_name": "FloatLogSliderModel",
            "_view_count": null,
            "_view_module": "@jupyter-widgets/controls",
            "_view_module_version": "1.5.0",
            "_view_name": "FloatLogSliderView",
            "base": 10,
            "continuous_update": true,
            "description": "v_min:",
            "description_tooltip": null,
            "disabled": false,
            "layout": "IPY_MODEL_c02d78b0b95b4479b015fecbae9815e9",
            "max": -1,
            "min": -4,
            "orientation": "horizontal",
            "readout": true,
            "readout_format": ".3g",
            "step": 0.1,
            "style": "IPY_MODEL_9e69410b7186461d8c7a90e4c5b11ab6",
            "value": 0.001
          }
        },
        "8ea05011205f45b9ae68236149acf1dd": {
          "model_module": "@jupyter-widgets/controls",
          "model_module_version": "1.5.0",
          "model_name": "DropdownModel",
          "state": {
            "_dom_classes": [],
            "_model_module": "@jupyter-widgets/controls",
            "_model_module_version": "1.5.0",
            "_model_name": "DropdownModel",
            "_options_labels": [
              "2013",
              "2015",
              "2017",
              "2018",
              "2019",
              "2020"
            ],
            "_view_count": null,
            "_view_module": "@jupyter-widgets/controls",
            "_view_module_version": "1.5.0",
            "_view_name": "DropdownView",
            "description": "Year:",
            "description_tooltip": null,
            "disabled": false,
            "index": 0,
            "layout": "IPY_MODEL_7391384c2569470ea76508184c35df0a",
            "style": "IPY_MODEL_47e875d9b15f47838c536b6cbaec24c3"
          }
        },
        "99289d8f420b46e99982b4ca79d21860": {
          "model_module": "@jupyter-widgets/controls",
          "model_module_version": "1.5.0",
          "model_name": "VBoxModel",
          "state": {
            "_dom_classes": [
              "widget-interact"
            ],
            "_model_module": "@jupyter-widgets/controls",
            "_model_module_version": "1.5.0",
            "_model_name": "VBoxModel",
            "_view_count": null,
            "_view_module": "@jupyter-widgets/controls",
            "_view_module_version": "1.5.0",
            "_view_name": "VBoxView",
            "box_style": "",
            "children": [
              "IPY_MODEL_8ea05011205f45b9ae68236149acf1dd",
              "IPY_MODEL_73c40bfed4994be9971cc280869917d5",
              "IPY_MODEL_ec262b95f5cc44debd0a7666ad6a753c"
            ],
            "layout": "IPY_MODEL_baefc4ea4b734b09b192c4bee1dab82c"
          }
        },
        "9e69410b7186461d8c7a90e4c5b11ab6": {
          "model_module": "@jupyter-widgets/controls",
          "model_module_version": "1.5.0",
          "model_name": "SliderStyleModel",
          "state": {
            "_model_module": "@jupyter-widgets/controls",
            "_model_module_version": "1.5.0",
            "_model_name": "SliderStyleModel",
            "_view_count": null,
            "_view_module": "@jupyter-widgets/base",
            "_view_module_version": "1.2.0",
            "_view_name": "StyleView",
            "description_width": "",
            "handle_color": null
          }
        },
        "baefc4ea4b734b09b192c4bee1dab82c": {
          "model_module": "@jupyter-widgets/base",
          "model_module_version": "1.2.0",
          "model_name": "LayoutModel",
          "state": {
            "_model_module": "@jupyter-widgets/base",
            "_model_module_version": "1.2.0",
            "_model_name": "LayoutModel",
            "_view_count": null,
            "_view_module": "@jupyter-widgets/base",
            "_view_module_version": "1.2.0",
            "_view_name": "LayoutView",
            "align_content": null,
            "align_items": null,
            "align_self": null,
            "border": null,
            "bottom": null,
            "display": null,
            "flex": null,
            "flex_flow": null,
            "grid_area": null,
            "grid_auto_columns": null,
            "grid_auto_flow": null,
            "grid_auto_rows": null,
            "grid_column": null,
            "grid_gap": null,
            "grid_row": null,
            "grid_template_areas": null,
            "grid_template_columns": null,
            "grid_template_rows": null,
            "height": null,
            "justify_content": null,
            "justify_items": null,
            "left": null,
            "margin": null,
            "max_height": null,
            "max_width": null,
            "min_height": null,
            "min_width": null,
            "object_fit": null,
            "object_position": null,
            "order": null,
            "overflow": null,
            "overflow_x": null,
            "overflow_y": null,
            "padding": null,
            "right": null,
            "top": null,
            "visibility": null,
            "width": null
          }
        },
        "c02d78b0b95b4479b015fecbae9815e9": {
          "model_module": "@jupyter-widgets/base",
          "model_module_version": "1.2.0",
          "model_name": "LayoutModel",
          "state": {
            "_model_module": "@jupyter-widgets/base",
            "_model_module_version": "1.2.0",
            "_model_name": "LayoutModel",
            "_view_count": null,
            "_view_module": "@jupyter-widgets/base",
            "_view_module_version": "1.2.0",
            "_view_name": "LayoutView",
            "align_content": null,
            "align_items": null,
            "align_self": null,
            "border": null,
            "bottom": null,
            "display": null,
            "flex": null,
            "flex_flow": null,
            "grid_area": null,
            "grid_auto_columns": null,
            "grid_auto_flow": null,
            "grid_auto_rows": null,
            "grid_column": null,
            "grid_gap": null,
            "grid_row": null,
            "grid_template_areas": null,
            "grid_template_columns": null,
            "grid_template_rows": null,
            "height": null,
            "justify_content": null,
            "justify_items": null,
            "left": null,
            "margin": null,
            "max_height": null,
            "max_width": null,
            "min_height": null,
            "min_width": null,
            "object_fit": null,
            "object_position": null,
            "order": null,
            "overflow": null,
            "overflow_x": null,
            "overflow_y": null,
            "padding": null,
            "right": null,
            "top": null,
            "visibility": null,
            "width": null
          }
        },
        "ec262b95f5cc44debd0a7666ad6a753c": {
          "model_module": "@jupyter-widgets/output",
          "model_module_version": "1.0.0",
          "model_name": "OutputModel",
          "state": {
            "_dom_classes": [],
            "_model_module": "@jupyter-widgets/output",
            "_model_module_version": "1.0.0",
            "_model_name": "OutputModel",
            "_view_count": null,
            "_view_module": "@jupyter-widgets/output",
            "_view_module_version": "1.0.0",
            "_view_name": "OutputView",
            "layout": "IPY_MODEL_03198e7396c94fe2ae9177f489fd187c",
            "msg_id": "",
            "outputs": [
              {
                "name": "stdout",
                "output_type": "stream",
                "text": [
                  "Debug - Selected Year: 2013, Selected vmin: 1.0023052380778996\n",
                  "Debug - Sample data from selected dataframe:\n",
                  "     Volume  Normalized Rank\n",
                  "0  0.896789         0.001524\n",
                  "1  0.772838         0.003049\n",
                  "2  0.645852         0.004573\n",
                  "3  0.336486         0.006098\n",
                  "4  0.313687         0.007622\n"
                ]
              },
              {
                "ename": "TypeError",
                "evalue": "ignored",
                "output_type": "error",
                "traceback": [
                  "\u001b[0;31m---------------------------------------------------------------------------\u001b[0m",
                  "\u001b[0;31mTypeError\u001b[0m                                 Traceback (most recent call last)",
                  "\u001b[0;32m/usr/local/lib/python3.10/dist-packages/ipywidgets/widgets/interaction.py\u001b[0m in \u001b[0;36mupdate\u001b[0;34m(self, *args)\u001b[0m\n\u001b[1;32m    255\u001b[0m                     \u001b[0mvalue\u001b[0m \u001b[0;34m=\u001b[0m \u001b[0mwidget\u001b[0m\u001b[0;34m.\u001b[0m\u001b[0mget_interact_value\u001b[0m\u001b[0;34m(\u001b[0m\u001b[0;34m)\u001b[0m\u001b[0;34m\u001b[0m\u001b[0;34m\u001b[0m\u001b[0m\n\u001b[1;32m    256\u001b[0m                     \u001b[0mself\u001b[0m\u001b[0;34m.\u001b[0m\u001b[0mkwargs\u001b[0m\u001b[0;34m[\u001b[0m\u001b[0mwidget\u001b[0m\u001b[0;34m.\u001b[0m\u001b[0m_kwarg\u001b[0m\u001b[0;34m]\u001b[0m \u001b[0;34m=\u001b[0m \u001b[0mvalue\u001b[0m\u001b[0;34m\u001b[0m\u001b[0;34m\u001b[0m\u001b[0m\n\u001b[0;32m--> 257\u001b[0;31m                 \u001b[0mself\u001b[0m\u001b[0;34m.\u001b[0m\u001b[0mresult\u001b[0m \u001b[0;34m=\u001b[0m \u001b[0mself\u001b[0m\u001b[0;34m.\u001b[0m\u001b[0mf\u001b[0m\u001b[0;34m(\u001b[0m\u001b[0;34m**\u001b[0m\u001b[0mself\u001b[0m\u001b[0;34m.\u001b[0m\u001b[0mkwargs\u001b[0m\u001b[0;34m)\u001b[0m\u001b[0;34m\u001b[0m\u001b[0;34m\u001b[0m\u001b[0m\n\u001b[0m\u001b[1;32m    258\u001b[0m                 \u001b[0mshow_inline_matplotlib_plots\u001b[0m\u001b[0;34m(\u001b[0m\u001b[0;34m)\u001b[0m\u001b[0;34m\u001b[0m\u001b[0;34m\u001b[0m\u001b[0m\n\u001b[1;32m    259\u001b[0m                 \u001b[0;32mif\u001b[0m \u001b[0mself\u001b[0m\u001b[0;34m.\u001b[0m\u001b[0mauto_display\u001b[0m \u001b[0;32mand\u001b[0m \u001b[0mself\u001b[0m\u001b[0;34m.\u001b[0m\u001b[0mresult\u001b[0m \u001b[0;32mis\u001b[0m \u001b[0;32mnot\u001b[0m \u001b[0;32mNone\u001b[0m\u001b[0;34m:\u001b[0m\u001b[0;34m\u001b[0m\u001b[0;34m\u001b[0m\u001b[0m\n",
                  "\u001b[0;32m<ipython-input-22-14298978f520>\u001b[0m in \u001b[0;36mdebug_update_plots\u001b[0;34m(year, log_vmin)\u001b[0m\n\u001b[1;32m      9\u001b[0m \u001b[0;34m\u001b[0m\u001b[0m\n\u001b[1;32m     10\u001b[0m     \u001b[0;31m# Run the MCF function and print its output\u001b[0m\u001b[0;34m\u001b[0m\u001b[0;34m\u001b[0m\u001b[0m\n\u001b[0;32m---> 11\u001b[0;31m     \u001b[0mvmin_best\u001b[0m\u001b[0;34m,\u001b[0m \u001b[0mD_star_best\u001b[0m\u001b[0;34m,\u001b[0m \u001b[0mp_value\u001b[0m\u001b[0;34m,\u001b[0m \u001b[0mb_hat_best\u001b[0m\u001b[0;34m,\u001b[0m \u001b[0mn_truncated_best\u001b[0m \u001b[0;34m=\u001b[0m \u001b[0mMCF\u001b[0m\u001b[0;34m(\u001b[0m\u001b[0myear\u001b[0m\u001b[0;34m)\u001b[0m\u001b[0;34m\u001b[0m\u001b[0;34m\u001b[0m\u001b[0m\n\u001b[0m\u001b[1;32m     12\u001b[0m     \u001b[0mprint\u001b[0m\u001b[0;34m(\u001b[0m\u001b[0;34mf\"Debug - Output from MCF: {vmin_best, D_star_best, p_value, b_hat_best, n_truncated_best}\"\u001b[0m\u001b[0;34m)\u001b[0m  \u001b[0;31m# Debug print\u001b[0m\u001b[0;34m\u001b[0m\u001b[0;34m\u001b[0m\u001b[0m\n\u001b[1;32m     13\u001b[0m \u001b[0;34m\u001b[0m\u001b[0m\n",
                  "\u001b[0;31mTypeError\u001b[0m: MCF() missing 1 required positional argument: 'vmin_limit'"
                ]
              }
            ]
          }
        }
      }
    }
  },
  "nbformat": 4,
  "nbformat_minor": 0
}
